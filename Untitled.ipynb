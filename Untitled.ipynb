{
 "cells": [
  {
   "cell_type": "code",
   "execution_count": 1,
   "id": "f32d5731-edee-4ba6-8221-b53e2591d44a",
   "metadata": {
    "tags": []
   },
   "outputs": [],
   "source": [
    "import torch\n",
    "import matplotlib.pyplot as plt\n",
    "from torchvision.datasets import CIFAR10\n",
    "import numpy as np\n",
    "from torchvision import transforms as tr\n"
   ]
  },
  {
   "cell_type": "code",
   "execution_count": 2,
   "id": "a7e2486e-b306-4c97-9a2d-b9ec71c17455",
   "metadata": {
    "tags": []
   },
   "outputs": [
    {
     "name": "stdout",
     "output_type": "stream",
     "text": [
      "Files already downloaded and verified\n",
      "Files already downloaded and verified\n"
     ]
    }
   ],
   "source": [
    "#divide data into train and test dataset\n",
    "#train = CIFAR10(root='data', train=True, download=True)\n",
    "#test = CIFAR10(root='data', train=False, download=True)\n"
   ]
  },
  {
   "cell_type": "code",
   "execution_count": 3,
   "id": "0cec0c1f-cd28-4119-99e7-148442b3a52b",
   "metadata": {
    "tags": []
   },
   "outputs": [
    {
     "data": {
      "text/plain": [
       "(<PIL.Image.Image image mode=RGB size=32x32>, 8)"
      ]
     },
     "execution_count": 3,
     "metadata": {},
     "output_type": "execute_result"
    }
   ],
   "source": [
    "train[100]\n"
   ]
  },
  {
   "cell_type": "code",
   "execution_count": 4,
   "id": "a7bb158b-5515-4342-97a4-f28cd23ff1b1",
   "metadata": {
    "tags": []
   },
   "outputs": [
    {
     "data": {
      "text/plain": [
       "50000"
      ]
     },
     "execution_count": 4,
     "metadata": {},
     "output_type": "execute_result"
    }
   ],
   "source": [
    "\n",
    "len(train)\n"
   ]
  },
  {
   "cell_type": "code",
   "execution_count": 5,
   "id": "b95ec66c-18d5-4781-90ac-eda6761f9de1",
   "metadata": {
    "tags": []
   },
   "outputs": [
    {
     "data": {
      "text/plain": [
       "10000"
      ]
     },
     "execution_count": 5,
     "metadata": {},
     "output_type": "execute_result"
    }
   ],
   "source": [
    "len(test)"
   ]
  },
  {
   "cell_type": "code",
   "execution_count": 6,
   "id": "030431e1-d45e-4f1c-972c-ae8feaee3913",
   "metadata": {
    "tags": []
   },
   "outputs": [
    {
     "data": {
      "text/plain": [
       "<matplotlib.image.AxesImage at 0x7f9b1d8d1970>"
      ]
     },
     "execution_count": 6,
     "metadata": {},
     "output_type": "execute_result"
    },
    {
     "data": {
      "image/png": "[encoded data removed]",
      "text/plain": [
       "<Figure size 640x480 with 1 Axes>"
      ]
     },
     "metadata": {},
     "output_type": "display_data"
    }
   ],
   "source": [
    "im = train[450][0]\n",
    "plt.imshow(im)"
   ]
  },
  {
   "cell_type": "code",
   "execution_count": 7,
   "id": "56515a91-e39e-47b2-b587-3a6fa96cc5eb",
   "metadata": {
    "tags": []
   },
   "outputs": [
    {
     "name": "stdout",
     "output_type": "stream",
     "text": [
      "[[[140 150 141]\n",
      "  [138 148 141]\n",
      "  [136 146 137]\n",
      "  ...\n",
      "  [101 115 108]\n",
      "  [117 128 116]\n",
      "  [119 128 114]]\n",
      "\n",
      " [[144 153 144]\n",
      "  [144 154 146]\n",
      "  [150 159 148]\n",
      "  ...\n",
      "  [114 129 121]\n",
      "  [118 130 118]\n",
      "  [123 132 117]]\n",
      "\n",
      " [[143 152 141]\n",
      "  [148 157 146]\n",
      "  [155 163 152]\n",
      "  ...\n",
      "  [124 138 128]\n",
      "  [127 135 122]\n",
      "  [124 131 117]]\n",
      "\n",
      " ...\n",
      "\n",
      " [[148 159 155]\n",
      "  [130 142 140]\n",
      "  [102 113 112]\n",
      "  ...\n",
      "  [ 20  19  25]\n",
      "  [ 21  20  26]\n",
      "  [ 18  17  23]]\n",
      "\n",
      " [[144 155 151]\n",
      "  [122 134 132]\n",
      "  [ 91 104 101]\n",
      "  ...\n",
      "  [ 18  17  23]\n",
      "  [ 20  19  25]\n",
      "  [ 16  15  21]]\n",
      "\n",
      " [[138 150 146]\n",
      "  [116 129 127]\n",
      "  [ 85  96  93]\n",
      "  ...\n",
      "  [ 15  14  19]\n",
      "  [ 17  16  21]\n",
      "  [ 17  16  21]]]\n"
     ]
    }
   ],
   "source": [
    "img_np = np.array(im)\n",
    "print(img_np)"
   ]
  },
  {
   "cell_type": "code",
   "execution_count": 8,
   "id": "af1afc0d-5c7a-4d02-bf40-f293bd189e1e",
   "metadata": {
    "tags": []
   },
   "outputs": [
    {
     "data": {
      "text/plain": [
       "(32, 32, 3)"
      ]
     },
     "execution_count": 8,
     "metadata": {},
     "output_type": "execute_result"
    }
   ],
   "source": [
    "img_np.shape"
   ]
  },
  {
   "cell_type": "code",
   "execution_count": 9,
   "id": "c71eb2cd-75b8-4c38-98e7-f28f6085f0d3",
   "metadata": {
    "tags": []
   },
   "outputs": [
    {
     "name": "stdout",
     "output_type": "stream",
     "text": [
      "Files already downloaded and verified\n",
      "Files already downloaded and verified\n"
     ]
    }
   ],
   "source": [
    "\n",
    "transform = tr.Compose([\n",
    "    tr.ToTensor(),\n",
    "    tr.Resize((32, 32), antialias=True)  # Resize with antialiasing\n",
    "])\n",
    "\n",
    "#Transforms dataset again\n",
    "train_tr = CIFAR10(root='data', train = True, transform= transform, download=True)\n",
    "test_tr = CIFAR10(root='data', train = False, transform= transform, download=True)            "
   ]
  },
  {
   "cell_type": "code",
   "execution_count": 10,
   "id": "3a64a743-ad1c-4de5-a6de-ccb7d58eb23b",
   "metadata": {
    "tags": []
   },
   "outputs": [],
   "source": [
    "#train_tr[100][0]"
   ]
  },
  {
   "cell_type": "code",
   "execution_count": 11,
   "id": "416e57fb-e6ac-4f34-8be9-29fc8fc683cf",
   "metadata": {
    "tags": []
   },
   "outputs": [
    {
     "data": {
      "text/plain": [
       "50000"
      ]
     },
     "execution_count": 11,
     "metadata": {},
     "output_type": "execute_result"
    }
   ],
   "source": [
    "len(train_tr)"
   ]
  },
  {
   "cell_type": "code",
   "execution_count": 12,
   "id": "a6035983-63fd-4e21-b439-dd0443b20900",
   "metadata": {
    "tags": []
   },
   "outputs": [],
   "source": [
    "train_data_load=torch.utils.data.DataLoader(dataset = train_tr,\n",
    "                                            batch_size = 128,\n",
    "                                            shuffle = True, \n",
    "                                            num_workers = 6 \n",
    "                                        \n",
    "                                           )\n",
    "valid_data_load = torch.utils.data.DataLoader(dataset=test_tr,\n",
    "                                              batch_size=128,\n",
    "                                              shuffle = False,\n",
    "                                              num_workers = 6)"
   ]
  },
  {
   "cell_type": "code",
   "execution_count": 13,
   "id": "f46fd91f-184c-4e6f-8437-ffb5732e5b45",
   "metadata": {
    "tags": []
   },
   "outputs": [],
   "source": [
    "class nn_model(torch.nn.Module):\n",
    "    \n",
    "    def __init__(self, in_fr, num_class):\n",
    "        super().__init__()\n",
    "        \n",
    "        self.linear_layer1=torch.nn.Linear(in_features = in_fr, out_features=in_fr//2)\n",
    "        self.activation = torch.nn.ReLU()\n",
    "        \n",
    "        self.linear_layer2 = torch.nn.Linear(in_features = in_fr//2, out_features=in_fr//4)\n",
    "        self.out_linear = torch.nn.Linear(in_features=in_fr//4, out_features=num_class)\n",
    "\n",
    "    def forward(self, inp):\n",
    "        bs=inp.shape[0]\n",
    "        # print(bs)\n",
    "        inp=inp.view(bs, -1)\n",
    "        inp=self.linear_layer1(inp)\n",
    "        # print(inp)\n",
    "        inp=self.activation(inp)\n",
    "        inp=self.linear_layer2(inp)\n",
    "        out=self.out_linear(inp)\n",
    "       \n",
    "        return out\n",
    "model = nn_model(in_fr=3*32*32, num_class = 15)\n",
    "raqam_0 = torch.rand(20, 3, 32, 32)\n",
    "#torch.nn.functional.softmax(model(raqam_0), dim=1)\n",
    "#m = model(raqam_0)"
   ]
  },
  {
   "cell_type": "code",
   "execution_count": 14,
   "id": "b59b85b7-7188-4ab5-9ed1-05796f26819e",
   "metadata": {
    "tags": []
   },
   "outputs": [],
   "source": [
    "epochs = 10\n",
    "device = 'cuda' if torch.cuda.is_available() else 'cpu'\n",
    "model.to(device)\n",
    "loss_fn = torch.nn.CrossEntropyLoss()\n",
    "optimizer = torch.optim.Adam(params = model.parameters(), lr = 0.003)"
   ]
  },
  {
   "cell_type": "code",
   "execution_count": 15,
   "id": "b2a89a28-0b62-4c1c-a0e9-7fe75d1444b7",
   "metadata": {
    "tags": []
   },
   "outputs": [
    {
     "name": "stdout",
     "output_type": "stream",
     "text": [
      "1 - > epoch boshlandi !\n",
      "\n"
     ]
    },
    {
     "name": "stderr",
     "output_type": "stream",
     "text": [
      "100%|██████████| 391/391 [00:05<00:00, 75.57it/s]\n",
      "100%|██████████| 79/79 [00:00<00:00, 135.68it/s]\n"
     ]
    },
    {
     "name": "stdout",
     "output_type": "stream",
     "text": [
      "1- epoch tugadi!\n",
      "__________________________\n",
      "1-epochdagi natijalar: \n",
      "\n",
      "1-epochdagi train accuracy score -> 0.28724\n",
      "1-epochdagi validation loss score-> 1.7992492506775675\n",
      "1-epochdagi validation accuracy score -> 0.3408\n",
      "2 - > epoch boshlandi !\n",
      "\n"
     ]
    },
    {
     "name": "stderr",
     "output_type": "stream",
     "text": [
      "100%|██████████| 391/391 [00:05<00:00, 74.57it/s]\n",
      "100%|██████████| 79/79 [00:00<00:00, 152.82it/s]\n"
     ]
    },
    {
     "name": "stdout",
     "output_type": "stream",
     "text": [
      "2- epoch tugadi!\n",
      "__________________________\n",
      "2-epochdagi natijalar: \n",
      "\n",
      "2-epochdagi train accuracy score -> 0.34076\n",
      "2-epochdagi validation loss score-> 1.771669241446483\n",
      "2-epochdagi validation accuracy score -> 0.3536\n",
      "3 - > epoch boshlandi !\n",
      "\n"
     ]
    },
    {
     "name": "stderr",
     "output_type": "stream",
     "text": [
      "100%|██████████| 391/391 [00:06<00:00, 62.31it/s]\n",
      "100%|██████████| 79/79 [00:00<00:00, 164.45it/s]\n"
     ]
    },
    {
     "name": "stdout",
     "output_type": "stream",
     "text": [
      "3- epoch tugadi!\n",
      "__________________________\n",
      "3-epochdagi natijalar: \n",
      "\n",
      "3-epochdagi train accuracy score -> 0.36308\n",
      "3-epochdagi validation loss score-> 1.7910953820506228\n",
      "3-epochdagi validation accuracy score -> 0.343\n",
      "4 - > epoch boshlandi !\n",
      "\n"
     ]
    },
    {
     "name": "stderr",
     "output_type": "stream",
     "text": [
      "100%|██████████| 391/391 [00:05<00:00, 65.87it/s]\n",
      "100%|██████████| 79/79 [00:00<00:00, 142.86it/s]\n"
     ]
    },
    {
     "name": "stdout",
     "output_type": "stream",
     "text": [
      "4- epoch tugadi!\n",
      "__________________________\n",
      "4-epochdagi natijalar: \n",
      "\n",
      "4-epochdagi train accuracy score -> 0.36836\n",
      "4-epochdagi validation loss score-> 1.741560247879994\n",
      "4-epochdagi validation accuracy score -> 0.3613\n",
      "5 - > epoch boshlandi !\n",
      "\n"
     ]
    },
    {
     "name": "stderr",
     "output_type": "stream",
     "text": [
      "100%|██████████| 391/391 [00:05<00:00, 66.82it/s]\n",
      "100%|██████████| 79/79 [00:00<00:00, 161.33it/s]\n"
     ]
    },
    {
     "name": "stdout",
     "output_type": "stream",
     "text": [
      "5- epoch tugadi!\n",
      "__________________________\n",
      "5-epochdagi natijalar: \n",
      "\n",
      "5-epochdagi train accuracy score -> 0.37704\n",
      "5-epochdagi validation loss score-> 1.7127879058258444\n",
      "5-epochdagi validation accuracy score -> 0.3788\n",
      "6 - > epoch boshlandi !\n",
      "\n"
     ]
    },
    {
     "name": "stderr",
     "output_type": "stream",
     "text": [
      "100%|██████████| 391/391 [00:06<00:00, 62.57it/s]\n",
      "100%|██████████| 79/79 [00:00<00:00, 147.75it/s]\n"
     ]
    },
    {
     "name": "stdout",
     "output_type": "stream",
     "text": [
      "6- epoch tugadi!\n",
      "__________________________\n",
      "6-epochdagi natijalar: \n",
      "\n",
      "6-epochdagi train accuracy score -> 0.3789\n",
      "6-epochdagi validation loss score-> 1.7268800056433375\n",
      "6-epochdagi validation accuracy score -> 0.3638\n",
      "7 - > epoch boshlandi !\n",
      "\n"
     ]
    },
    {
     "name": "stderr",
     "output_type": "stream",
     "text": [
      "100%|██████████| 391/391 [00:06<00:00, 59.59it/s]\n",
      "100%|██████████| 79/79 [00:00<00:00, 153.21it/s]\n"
     ]
    },
    {
     "name": "stdout",
     "output_type": "stream",
     "text": [
      "7- epoch tugadi!\n",
      "__________________________\n",
      "7-epochdagi natijalar: \n",
      "\n",
      "7-epochdagi train accuracy score -> 0.37906\n",
      "7-epochdagi validation loss score-> 1.7246571070031276\n",
      "7-epochdagi validation accuracy score -> 0.3782\n",
      "8 - > epoch boshlandi !\n",
      "\n"
     ]
    },
    {
     "name": "stderr",
     "output_type": "stream",
     "text": [
      "100%|██████████| 391/391 [00:06<00:00, 64.82it/s]\n",
      "100%|██████████| 79/79 [00:00<00:00, 155.31it/s]\n"
     ]
    },
    {
     "name": "stdout",
     "output_type": "stream",
     "text": [
      "8- epoch tugadi!\n",
      "__________________________\n",
      "8-epochdagi natijalar: \n",
      "\n",
      "8-epochdagi train accuracy score -> 0.38182\n",
      "8-epochdagi validation loss score-> 1.7024506692644916\n",
      "8-epochdagi validation accuracy score -> 0.3845\n",
      "9 - > epoch boshlandi !\n",
      "\n"
     ]
    },
    {
     "name": "stderr",
     "output_type": "stream",
     "text": [
      "100%|██████████| 391/391 [00:06<00:00, 62.54it/s]\n",
      "100%|██████████| 79/79 [00:00<00:00, 154.47it/s]\n"
     ]
    },
    {
     "name": "stdout",
     "output_type": "stream",
     "text": [
      "9- epoch tugadi!\n",
      "__________________________\n",
      "9-epochdagi natijalar: \n",
      "\n",
      "9-epochdagi train accuracy score -> 0.3895\n",
      "9-epochdagi validation loss score-> 1.7661878911754754\n",
      "9-epochdagi validation accuracy score -> 0.3537\n",
      "10 - > epoch boshlandi !\n",
      "\n"
     ]
    },
    {
     "name": "stderr",
     "output_type": "stream",
     "text": [
      "100%|██████████| 391/391 [00:06<00:00, 61.85it/s]\n",
      "100%|██████████| 79/79 [00:00<00:00, 149.61it/s]"
     ]
    },
    {
     "name": "stdout",
     "output_type": "stream",
     "text": [
      "10- epoch tugadi!\n",
      "__________________________\n",
      "10-epochdagi natijalar: \n",
      "\n",
      "10-epochdagi train accuracy score -> 0.38596\n",
      "10-epochdagi validation loss score-> 1.6836143098300016\n",
      "10-epochdagi validation accuracy score -> 0.3824\n"
     ]
    },
    {
     "name": "stderr",
     "output_type": "stream",
     "text": [
      "\n"
     ]
    }
   ],
   "source": [
    "from tqdm import tqdm\n",
    "#print('train is started...\")\n",
    "for epoch in range(epochs):\n",
    "    print(f\"{epoch +1} - > epoch boshlandi !\\n\")\n",
    "      \n",
    "    tr_acc_score, tr_total = 0, 0\n",
    "\n",
    "    for ind, batch in enumerate(tqdm(train_data_load)):\n",
    "        ims, gts = batch\n",
    "\n",
    "        img = ims.to(device)\n",
    "        gts = gts.to(device)\n",
    "\n",
    "        preds = model(img)\n",
    "        loss = loss_fn(preds, gts)\n",
    "        tr_total += ims.shape[0]\n",
    "        pred_class = torch.argmax(preds, dim = 1)\n",
    "        acc_score  = (pred_class==gts).sum().item()\n",
    "        tr_acc_score += acc_score\n",
    "        optimizer.zero_grad()\n",
    "        loss.backward()\n",
    "        optimizer.step()\n",
    "    model.eval()\n",
    "        \n",
    "    with torch.no_grad():\n",
    "        val_epoch_loss = 0.\n",
    "        val_total = 0.\n",
    "        val_epoch_acc =0.\n",
    "        for ind, batch in enumerate(tqdm(valid_data_load)):\n",
    "            img, gts = batch \n",
    "            val_total +=img.shape[0]\n",
    "            img = img.to(device)\n",
    "            gts = gts.to(device)\n",
    "            pred = model(img)\n",
    "            pred_class = torch.argmax(pred, dim=1)\n",
    "            val_acc = (pred_class == gts).sum().item()\n",
    "            val_epoch_acc +=val_acc\n",
    "            loss = loss_fn(pred, gts)\n",
    "            val_epoch_loss +=loss.item()\n",
    "        \n",
    "        \n",
    "        print(f'{epoch+1}- epoch tugadi!')\n",
    "        print('__________________________')\n",
    "        print(f'{epoch+1}-epochdagi natijalar: \\n')\n",
    "        print(f'{epoch+1}-epochdagi train accuracy score -> {tr_acc_score/tr_total}')\n",
    "        print(f'{epoch+1}-epochdagi validation loss score-> {val_epoch_loss/len(valid_data_load)}')\n",
    "        print(f'{epoch+1}-epochdagi validation accuracy score -> {val_epoch_acc/val_total}')\n",
    "  \n",
    "      \n",
    "      \n",
    "      \n",
    "      "
   ]
  },
  {
   "cell_type": "code",
   "execution_count": null,
   "id": "ac906f24-ba42-4bd6-b1de-bb7d93887eb7",
   "metadata": {},
   "outputs": [],
   "source": []
  }
 ],
 "metadata": {
  "kernelspec": {
   "display_name": "Python 3 (ipykernel)",
   "language": "python",
   "name": "python3"
  },
  "language_info": {
   "codemirror_mode": {
    "name": "ipython",
    "version": 3
   },
   "file_extension": ".py",
   "mimetype": "text/x-python",
   "name": "python",
   "nbconvert_exporter": "python",
   "pygments_lexer": "ipython3",
   "version": "3.8.18"
  }
 },
 "nbformat": 4,
 "nbformat_minor": 5
}
